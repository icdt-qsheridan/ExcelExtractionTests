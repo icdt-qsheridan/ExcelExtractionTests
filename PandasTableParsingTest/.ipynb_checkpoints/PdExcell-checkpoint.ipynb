{
 "cells": [
  {
   "cell_type": "code",
   "execution_count": 27,
   "metadata": {},
   "outputs": [],
   "source": [
    "import pandas as pd\n",
    "import numpy as np\n"
   ]
  },
  {
   "cell_type": "code",
   "execution_count": 28,
   "metadata": {},
   "outputs": [],
   "source": [
    "baseDir = \"TestSheets\"\n",
    "testFileOne = baseDir + \"/Test1.xlsx\"\n",
    "testFileTwo = baseDir + \"/TestSANDAGInvestments.xlsx\"\n",
    "testFileThree = baseDir + \"/TestInterestFees.xlsx\""
   ]
  },
  {
   "cell_type": "code",
   "execution_count": 105,
   "metadata": {},
   "outputs": [
    {
     "data": {
      "text/plain": [
       "array(['Unnamed: 1', 'Unnamed: 3', 'Unnamed: 5', 'Unnamed: 7',\n",
       "       'Unnamed: 9', 'Unnamed: 11', 'Unnamed: 13', 'Unnamed: 15'],\n",
       "      dtype=object)"
      ]
     },
     "execution_count": 105,
     "metadata": {},
     "output_type": "execute_result"
    }
   ],
   "source": [
    "xls1 = pd.ExcelFile(testFileOne)\n",
    "df1 = pd.read_excel(xls1, 'Institution')\n",
    "#df1.to_csv('Test1Institution.csv', index=False)\n",
    "# df1.iloc[0]\n",
    "\n",
    "df1_nulls = df1.notnull()*1.0\n",
    "null_col_sums = df1_nulls.sum()\n",
    "null_col_sums[(null_col_sums==0)].index.values"
   ]
  },
  {
   "cell_type": "code",
   "execution_count": 114,
   "metadata": {},
   "outputs": [
    {
     "data": {
      "text/plain": [
       "array([ 2,  6,  7,  9, 11, 13, 15, 17, 19, 21, 23, 25, 27, 29, 30, 31, 33,\n",
       "       37, 39, 41, 43, 45, 47, 49, 50])"
      ]
     },
     "execution_count": 114,
     "metadata": {},
     "output_type": "execute_result"
    }
   ],
   "source": [
    "df1_nulls[df1_nulls.sum(axis=1)==0.0].index.values"
   ]
  },
  {
   "cell_type": "code",
   "execution_count": 120,
   "metadata": {},
   "outputs": [],
   "source": [
    "def get_null_rows_cols(csv_file_path, sheet_name): \n",
    "    \"\"\"Function that returns null_row and null_col indicies\n",
    "    Args:\n",
    "        csv_file_path (str): path to csv file\n",
    "        sheet_name (str): sheet name\n",
    "    Returns:\n",
    "        null_rows, null_cols ([int], [int]): null_row and null_col indicies\n",
    "    \"\"\"\n",
    "    xls = pd.ExcelFile(csv_file_path)\n",
    "    df = pd.read_excel(xls, sheet_name)\n",
    "    df_notnulls = df.notnull()*1.0\n",
    "    \n",
    "    # get null rows\n",
    "    null_rows = df_notnulls[df_notnulls.sum(axis=1)==0].index.values\n",
    "    \n",
    "    # get null cols\n",
    "    notnulls_col_sums = df_notnulls.sum()\n",
    "    null_cols = null_col_sums[(notnulls_col_sums==0)].index.values\n",
    "    \n",
    "    return null_rows, null_cols"
   ]
  },
  {
   "cell_type": "code",
   "execution_count": 121,
   "metadata": {},
   "outputs": [
    {
     "data": {
      "text/plain": [
       "array([ 2,  6,  7,  9, 11, 13, 15, 17, 19, 21, 23, 25, 27, 29, 30, 31, 33,\n",
       "       37, 39, 41, 43, 45, 47, 49, 50])"
      ]
     },
     "execution_count": 121,
     "metadata": {},
     "output_type": "execute_result"
    }
   ],
   "source": [
    "null_rows, null_cols = get_null_rows_cols(testFileOne, \"Institution\")\n",
    "null_rows"
   ]
  },
  {
   "cell_type": "code",
   "execution_count": null,
   "metadata": {},
   "outputs": [],
   "source": [
    "def get_removal_rows(null_rows):\n",
    "    \"\"\"Function that returns a list of null ros to be removed\n",
    "    Args:\n",
    "        null_rows ([int]): list of rows indicies for empty rows\n",
    "    Returns:\n",
    "        removal_rows ([int]): list of row indicies for rows to be removed\n",
    "    \"\"\"\n",
    "    \n",
    "    removal_rows = []\n",
    "    \n",
    "    for index in null_rows:\n",
    "        if((index+1) not in null_rows) and ((index-1) not in null_rows):\n",
    "            removal_rows.append(index)\n",
    "            \n",
    "    return removal_rows"
   ]
  },
  {
   "cell_type": "code",
   "execution_count": 30,
   "metadata": {},
   "outputs": [],
   "source": [
    "def remove_blank_rows(original_csv_file_path):\n",
    "    \"\"\"Function to determine blank rows that should be removed from tables\n",
    "    Args:\n",
    "        original_csv_file_path (str) - relative path to original CSV file\n",
    "    Returns:\n",
    "        remove_indecies ([int]) - list of row indicies that shluld be removed \n",
    "    \"\"\"\n",
    "    \n",
    "    remove_indecies = [] \n",
    "    \n",
    "    # open the read the csv file lines\n",
    "    original_csv = []\n",
    "    # determine the rows that are not blank\n",
    "    \n",
    "    # for row in sheet\n",
    "    \n",
    "        # if previous row and next row are non-empty, append to remove indicies\n",
    "    \n",
    "    return remove_indecies"
   ]
  },
  {
   "cell_type": "code",
   "execution_count": 31,
   "metadata": {},
   "outputs": [],
   "source": [
    "def remove_blank_cols(original_csv_file_path):\n",
    "    \"\"\"Function to determine blank cols that should be removed from tables\n",
    "    Args:\n",
    "        original_csv_file_path (str) - relative path to original CSV file\n",
    "    Returns:\n",
    "        remove_indecies ([int]) - list of col indicies that shluld be removed \n",
    "    \"\"\"\n",
    "    \n",
    "    remove_indecies = []\n",
    "    \n",
    "    return remove_indecies"
   ]
  },
  {
   "cell_type": "code",
   "execution_count": 32,
   "metadata": {},
   "outputs": [],
   "source": [
    "def clean_csv(csv_file_path): \n",
    "    \"\"\"Function to make a clean csv file with machine readable tables\n",
    "    Args:\n",
    "        original_csv_file_path (str) - relative path to original CSV file\n",
    "    Returns:\n",
    "        none\n",
    "    \"\"\""
   ]
  },
  {
   "cell_type": "code",
   "execution_count": 33,
   "metadata": {},
   "outputs": [],
   "source": [
    "def parse_excel_sheet(file, sheet_name=0, threshold=5):\n",
    "    '''parses multiple tables from an excel sheet into multiple data frame objects. Returns [dfs, df_mds], where dfs is a list of data frames and df_mds their potential associated metadata'''\n",
    "    xl = pd.ExcelFile(file)\n",
    "    entire_sheet = xl.parse(sheet_name=sheet_name)\n",
    "\n",
    "    # count the number of non-Nan cells in each row and then the change in that number between adjacent rows\n",
    "    n_values = np.logical_not(entire_sheet.isnull()).sum(axis=1)\n",
    "    n_values_deltas = n_values[1:] - n_values[:-1].values\n",
    "\n",
    "    # define the beginnings and ends of tables using delta in n_values\n",
    "    table_beginnings = n_values_deltas > threshold\n",
    "    table_beginnings = table_beginnings[table_beginnings].index\n",
    "    table_endings = n_values_deltas < -threshold\n",
    "    table_endings = table_endings[table_endings].index\n",
    "    if len(table_beginnings) < len(table_endings) or len(table_beginnings) > len(table_endings)+1:\n",
    "        raise BaseException('Could not detect equal number of beginnings and ends')\n",
    "\n",
    "    # look for metadata before the beginnings of tables\n",
    "    md_beginnings = []\n",
    "    for start in table_beginnings:\n",
    "        md_start = n_values.iloc[:start][n_values==0].index[-1] + 1\n",
    "        md_beginnings.append(md_start)\n",
    "\n",
    "    # make data frames\n",
    "    dfs = []\n",
    "    df_mds = []\n",
    "    for ind in range(len(table_beginnings)):\n",
    "        start = table_beginnings[ind]+1\n",
    "        if ind < len(table_endings):\n",
    "            stop = table_endings[ind]\n",
    "        else:\n",
    "            stop = entire_sheet.shape[0]\n",
    "        df = xl.parse(sheet_name=sheet_name, skiprows=start, nrows=stop-start)\n",
    "        dfs.append(df)\n",
    "\n",
    "        md = xl.parse(sheet_name=sheet_name, skiprows=md_beginnings[ind], nrows=start-md_beginnings[ind]-1).dropna(axis=1)\n",
    "        df_mds.append(md)\n",
    "    return dfs, df_mds\n"
   ]
  },
  {
   "cell_type": "code",
   "execution_count": 36,
   "metadata": {},
   "outputs": [],
   "source": [
    "dfs, df_mds = parse_excel_sheet(testFileOne, sheet_name='Institution', threshold=5)"
   ]
  },
  {
   "cell_type": "code",
   "execution_count": 37,
   "metadata": {},
   "outputs": [
    {
     "data": {
      "text/plain": [
       "[    Unnamed: 0  Unnamed: 1   Book  Unnamed: 3 Percent of  Unnamed: 5 Market  \\\n",
       " 0  Institution         NaN  Value         NaN  Portfolio         NaN  Value   \n",
       " \n",
       "    Unnamed: 7 Market.1  Unnamed: 9   Unrealized  Unnamed: 11 Yield on  \\\n",
       " 0         NaN    Price         NaN  Gain/(Loss)          NaN     Cost   \n",
       " \n",
       "    Unnamed: 13   Days to  Unnamed: 15  \n",
       " 0          NaN  Maturity          NaN  ,\n",
       " Empty DataFrame\n",
       " Columns: [US BANK, N.A., Unnamed: 1, 13609892.72, Unnamed: 3, 0.013864193803321174, Unnamed: 5, 13609892.72.1, Unnamed: 7, 1, Unnamed: 9, 0, Unnamed: 11, N/A, Unnamed: 13, 1.1, Unnamed: 15]\n",
       " Index: [],\n",
       " Empty DataFrame\n",
       " Columns: [STATE OF CALIFORNIA LOCAL AGENCY INVESTMENT FUND, Unnamed: 1, 68025348.36, Unnamed: 3, 0.06929640318292503, Unnamed: 5, 68025348.36.1, Unnamed: 7, 1, Unnamed: 9, 0, Unnamed: 11, 0.01078, Unnamed: 13, 191, Unnamed: 15]\n",
       " Index: [],\n",
       " Empty DataFrame\n",
       " Columns: [CALIFORNIA ASSET MANAGEMENT PROGRAM (CAMP) INDIVIDUAL PORTFOLIO, Unnamed: 1, 75095231.25, Unnamed: 3, 0.07649838695827872, Unnamed: 5, 75515158.2, Unnamed: 7, 1.0055919256524029, Unnamed: 9, 419926.950000003, Unnamed: 11, 0.019198307620282427, Unnamed: 13, 86.7833076692144, Unnamed: 15]\n",
       " Index: [],\n",
       " Empty DataFrame\n",
       " Columns: [CAMP CASH RESERVE PORTFOLIO, Unnamed: 1, 297823313.15, Unnamed: 3, 0.3033881469610005, Unnamed: 5, 297823313.15.1, Unnamed: 7, 1, Unnamed: 9, 0, Unnamed: 11, 0.0051, Unnamed: 13, 53, Unnamed: 15]\n",
       " Index: [],\n",
       " Empty DataFrame\n",
       " Columns: [US BANK TRUST, Unnamed: 1, 108818280.29, Unnamed: 3, 0.11085155175893882, Unnamed: 5, 108818280.29.1, Unnamed: 7, 1, Unnamed: 9, 0, Unnamed: 11, 0.000430960021680379, Unnamed: 13, 17.5220401867095, Unnamed: 15]\n",
       " Index: [],\n",
       " Empty DataFrame\n",
       " Columns: [US BANK INDIVIDUAL PORTFOLIO, Unnamed: 1, 222175263.41, Unnamed: 3, 0.22632661208957502, Unnamed: 5, 228592249.41, Unnamed: 7, 1.0288825403040398, Unnamed: 9, 6416986, Unnamed: 11, 0.019886590612869, Unnamed: 13, 785.507812490098, Unnamed: 15]\n",
       " Index: [],\n",
       " Empty DataFrame\n",
       " Columns: [US BANK CASH RESERVE PORTFOLIO, Unnamed: 1, 801065.93, Unnamed: 3, 0.0008160338609015658, Unnamed: 5, 801065.93.1, Unnamed: 7, 1, Unnamed: 9, 0, Unnamed: 11, 0.1, Unnamed: 13, 1.1, Unnamed: 15]\n",
       " Index: [],\n",
       " Empty DataFrame\n",
       " Columns: [SAN DIEGO COUNTY TREASURER'S POOLED MONEY FUND, Unnamed: 1, 186659401.51, Unnamed: 3, 0.19014713568929445, Unnamed: 5, 186659401.51.1, Unnamed: 7, 1, Unnamed: 9, 0, Unnamed: 11, 0.0156, Unnamed: 13, 556, Unnamed: 15]\n",
       " Index: [],\n",
       " Empty DataFrame\n",
       " Columns: [CALIFORNIA BANK AND TRUST, Unnamed: 1, 904175.9, Unnamed: 3, 0.0009210704424929769, Unnamed: 5, 904175.9.1, Unnamed: 7, 1, Unnamed: 9, 0, Unnamed: 11, N/A, Unnamed: 13, 1.1, Unnamed: 15]\n",
       " Index: [],\n",
       " Empty DataFrame\n",
       " Columns: [WELLS FARGO BANK, N.A., Unnamed: 1, 7745736.04, Unnamed: 3, 0.00789046525327273, Unnamed: 5, 8112513.38, Unnamed: 7, 1.047352160996181, Unnamed: 9, 366777.3399999999, Unnamed: 11, 0.0229, Unnamed: 13, 1, Unnamed: 15]\n",
       " Index: [],\n",
       " Empty DataFrame\n",
       " Columns: [TOTAL, Unnamed: 1, 981657708.5599998, Unnamed: 3, 1.000000000000001, Unnamed: 5, 988861398.8499998, Unnamed: 7, 1.007338291368961, Unnamed: 9, 7203690.290000003, Unnamed: 11, 0.011619655737795396, Unnamed: 13, 324.21601618623043, Unnamed: 15]\n",
       " Index: [],\n",
       "   Unnamed: 0  Unnamed: 1   Book  Unnamed: 3 Percent of  Unnamed: 5 Market  \\\n",
       " 0     Agency         NaN  Value         NaN  Portfolio         NaN  Value   \n",
       " \n",
       "    Unnamed: 7 Market.1  Unnamed: 9   Unrealized  Unnamed: 11 Yield on  \\\n",
       " 0         NaN    Price         NaN  Gain/(Loss)          NaN     Cost   \n",
       " \n",
       "    Unnamed: 13   Days to  Unnamed: 15  \n",
       " 0          NaN  Maturity          NaN  ,\n",
       " Empty DataFrame\n",
       " Columns: [SANDAG FUNDS, Unnamed: 1, 331429206.33, Unnamed: 3, 0.3376219668423687, Unnamed: 5, 331927820.86, Unnamed: 7, 1.0015044375102644, Unnamed: 9, 498614.530000031, Unnamed: 11, 0.006995645890201672, Unnamed: 13, 104.197925472833, Unnamed: 15]\n",
       " Index: [],\n",
       " Empty DataFrame\n",
       " Columns: [AUTOMATED REGIONAL JUSTICE INFORMATION SYSTEM FUNDS , Unnamed: 1, 8614765.22, Unnamed: 3, 0.00877573225868827, Unnamed: 5, 8614765.22.1, Unnamed: 7, 1, Unnamed: 9, 0, Unnamed: 11, 0.008389533276120045, Unnamed: 13, 204.22845487947, Unnamed: 15]\n",
       " Index: [],\n",
       " Empty DataFrame\n",
       " Columns: [SOURCEPOINT FUNDS, Unnamed: 1, 213614.7, Unnamed: 3, 0.00021760609440265365, Unnamed: 5, 213614.7.1, Unnamed: 7, 1, Unnamed: 9, 0, Unnamed: 11, 0.015599999999999998, Unnamed: 13, 469.355990247862, Unnamed: 15]\n",
       " Index: [],\n",
       " Empty DataFrame\n",
       " Columns: [CORONADO BRIDGE TOLL FUNDS, Unnamed: 1, 284840.27, Unnamed: 3, 0.0002901625154228494, Unnamed: 5, 284840.27.1, Unnamed: 7, 1, Unnamed: 9, 0, Unnamed: 11, 0.0051, Unnamed: 13, 53, Unnamed: 15]\n",
       " Index: [],\n",
       " Empty DataFrame\n",
       " Columns: [SAN DIEGO COUNTY REGIONAL TRANSPORTATION COMMISSION FUNDS, Unnamed: 1, 641115282.04, Unnamed: 3, 0.6530945322891175, Unnamed: 5, 647820357.8, Unnamed: 7, 1.0104584556753424, Unnamed: 9, 6705075.75999999, Unnamed: 11, 0.013966576969216146, Unnamed: 13, 438.615075106196, Unnamed: 15]\n",
       " Index: [],\n",
       " Empty DataFrame\n",
       " Columns: [TOTAL, Unnamed: 1, 981657708.56, Unnamed: 3, 1, Unnamed: 5, 988861398.8499999, Unnamed: 7, 1.007338291368961, Unnamed: 9, 7203690.290000021, Unnamed: 11, 0.011619655737795396, Unnamed: 13, 324.2160161862303, Unnamed: 15]\n",
       " Index: []]"
      ]
     },
     "execution_count": 37,
     "metadata": {},
     "output_type": "execute_result"
    }
   ],
   "source": [
    "dfs"
   ]
  },
  {
   "cell_type": "code",
   "execution_count": 38,
   "metadata": {},
   "outputs": [
    {
     "data": {
      "text/html": [
       "<div>\n",
       "<style scoped>\n",
       "    .dataframe tbody tr th:only-of-type {\n",
       "        vertical-align: middle;\n",
       "    }\n",
       "\n",
       "    .dataframe tbody tr th {\n",
       "        vertical-align: top;\n",
       "    }\n",
       "\n",
       "    .dataframe thead th {\n",
       "        text-align: right;\n",
       "    }\n",
       "</style>\n",
       "<table border=\"1\" class=\"dataframe\">\n",
       "  <thead>\n",
       "    <tr style=\"text-align: right;\">\n",
       "      <th></th>\n",
       "      <th>Unnamed: 0</th>\n",
       "      <th>Unnamed: 1</th>\n",
       "      <th>Book</th>\n",
       "      <th>Unnamed: 3</th>\n",
       "      <th>Percent of</th>\n",
       "      <th>Unnamed: 5</th>\n",
       "      <th>Market</th>\n",
       "      <th>Unnamed: 7</th>\n",
       "      <th>Market.1</th>\n",
       "      <th>Unnamed: 9</th>\n",
       "      <th>Unrealized</th>\n",
       "      <th>Unnamed: 11</th>\n",
       "      <th>Yield on</th>\n",
       "      <th>Unnamed: 13</th>\n",
       "      <th>Days to</th>\n",
       "      <th>Unnamed: 15</th>\n",
       "    </tr>\n",
       "  </thead>\n",
       "  <tbody>\n",
       "    <tr>\n",
       "      <th>0</th>\n",
       "      <td>Institution</td>\n",
       "      <td>NaN</td>\n",
       "      <td>Value</td>\n",
       "      <td>NaN</td>\n",
       "      <td>Portfolio</td>\n",
       "      <td>NaN</td>\n",
       "      <td>Value</td>\n",
       "      <td>NaN</td>\n",
       "      <td>Price</td>\n",
       "      <td>NaN</td>\n",
       "      <td>Gain/(Loss)</td>\n",
       "      <td>NaN</td>\n",
       "      <td>Cost</td>\n",
       "      <td>NaN</td>\n",
       "      <td>Maturity</td>\n",
       "      <td>NaN</td>\n",
       "    </tr>\n",
       "  </tbody>\n",
       "</table>\n",
       "</div>"
      ],
      "text/plain": [
       "    Unnamed: 0  Unnamed: 1   Book  Unnamed: 3 Percent of  Unnamed: 5 Market  \\\n",
       "0  Institution         NaN  Value         NaN  Portfolio         NaN  Value   \n",
       "\n",
       "   Unnamed: 7 Market.1  Unnamed: 9   Unrealized  Unnamed: 11 Yield on  \\\n",
       "0         NaN    Price         NaN  Gain/(Loss)          NaN     Cost   \n",
       "\n",
       "   Unnamed: 13   Days to  Unnamed: 15  \n",
       "0          NaN  Maturity          NaN  "
      ]
     },
     "execution_count": 38,
     "metadata": {},
     "output_type": "execute_result"
    }
   ],
   "source": [
    "dfs[0]"
   ]
  },
  {
   "cell_type": "code",
   "execution_count": null,
   "metadata": {},
   "outputs": [],
   "source": []
  }
 ],
 "metadata": {
  "kernelspec": {
   "display_name": "Python 3",
   "language": "python",
   "name": "python3"
  },
  "language_info": {
   "codemirror_mode": {
    "name": "ipython",
    "version": 3
   },
   "file_extension": ".py",
   "mimetype": "text/x-python",
   "name": "python",
   "nbconvert_exporter": "python",
   "pygments_lexer": "ipython3",
   "version": "3.9.0"
  }
 },
 "nbformat": 4,
 "nbformat_minor": 4
}
